{
 "cells": [
  {
   "cell_type": "code",
   "execution_count": 1,
   "id": "8419d5f0",
   "metadata": {},
   "outputs": [],
   "source": [
    "import gzip\n",
    "import matplotlib.pyplot as plt\n",
    "import numpy as np\n",
    "import random\n",
    "import scipy\n",
    "import tensorflow as tf\n",
    "from collections import defaultdict\n",
    "from scipy.spatial import distance"
   ]
  },
  {
   "cell_type": "code",
   "execution_count": 7,
   "id": "f25f98d3",
   "metadata": {
    "scrolled": true
   },
   "outputs": [],
   "source": [
    "from itertools import islice\n",
    "\n",
    "with open(\"lthing_data/reviews.txt\") as myfile:\n",
    "    head = list(islice(myfile, 1000001))"
   ]
  },
  {
   "cell_type": "code",
   "execution_count": 8,
   "id": "cc04562f",
   "metadata": {},
   "outputs": [],
   "source": [
    "for i in range(len(head)):\n",
    "    exec(head[i])"
   ]
  },
  {
   "cell_type": "code",
   "execution_count": 9,
   "id": "839d590f",
   "metadata": {},
   "outputs": [],
   "source": [
    "count = 0\n",
    "total_count = 0\n",
    "for value in reviews.values():\n",
    "    total_count+=1\n",
    "#     print(value['flags'])\n",
    "    if(len(value['flags']) != 0):\n",
    "        count+=1"
   ]
  },
  {
   "cell_type": "code",
   "execution_count": 13,
   "id": "b4106cc1",
   "metadata": {},
   "outputs": [],
   "source": [
    "interactions = []\n",
    "for item, user in reviews.keys():\n",
    "    if('stars' in reviews[(item, user)].keys() and reviews[(item, user)]['stars'] >= 4.0 and len(reviews[(item, user)]['flags']) == 0):\n",
    "        interactions.append((item, user, reviews[(item, user)]['unixtime'], reviews[(item, user)]['stars']))"
   ]
  },
  {
   "cell_type": "code",
   "execution_count": 15,
   "id": "5c4a8fc7",
   "metadata": {},
   "outputs": [],
   "source": [
    "random.shuffle(interactions)"
   ]
  },
  {
   "cell_type": "code",
   "execution_count": 16,
   "id": "ee5abd93",
   "metadata": {},
   "outputs": [],
   "source": [
    "nTrain = int(len(interactions) * 0.9)\n",
    "nTest = len(interactions) - nTrain\n",
    "interactionsTrain = interactions[:nTrain]\n",
    "interactionsTest = interactions[nTrain:]"
   ]
  },
  {
   "cell_type": "code",
   "execution_count": 17,
   "id": "7385733d",
   "metadata": {},
   "outputs": [],
   "source": [
    "friendsPerUser = defaultdict(set)\n",
    "social_connections = open(\"lthing_data/edges.txt\", 'r')\n",
    "for l in social_connections:\n",
    "    friend1, friend2 = l.strip().split(\" \")\n",
    "    if(friendsPerUser[friend1] == {}):\n",
    "        friendsPerUser[friend1] = set(friend2)\n",
    "    else:\n",
    "        friendsPerUser[friend1].add(friend2)   \n",
    "    if(friendsPerUser[friend2] == {}):\n",
    "        friendsPerUser[friend2] = set(friend1)\n",
    "    else:\n",
    "        friendsPerUser[friend2].add(friend1)    "
   ]
  },
  {
   "cell_type": "code",
   "execution_count": 19,
   "id": "2a3bd792",
   "metadata": {},
   "outputs": [],
   "source": [
    "interactionsPerUser = defaultdict(list) #interactionsPerUser[u] = [t1, i1, r1] [t2,i2,r2]\n",
    "userItems = defaultdict()\n",
    "userIDs = {}\n",
    "itemIDs = {}\n",
    "\n",
    "for d in interactions:\n",
    "    u,i,t,r = d[1], d[0], d[2],d[3]\n",
    "    if not u in userIDs: userIDs[u] = len(userIDs)\n",
    "    if not i in itemIDs: itemIDs[i] = len(itemIDs)\n",
    "    #interactions.append((t,u,i))\n",
    "    interactionsPerUser[u].append((t,i))\n",
    "\n",
    "ITEMS = set(itemIDs.values())\n",
    "userItems = defaultdict()\n",
    "for u in interactionsPerUser:\n",
    "    userItems[userIDs[u]] = set([itemIDs[x[1]] for x in interactionsPerUser[u]])"
   ]
  },
  {
   "cell_type": "code",
   "execution_count": 20,
   "id": "b3845ca5",
   "metadata": {},
   "outputs": [],
   "source": [
    "items = list(itemIDs.keys())"
   ]
  },
  {
   "cell_type": "code",
   "execution_count": 24,
   "id": "06f94e33",
   "metadata": {},
   "outputs": [],
   "source": [
    "interactionsWithPrevious = []\n",
    "for u in interactionsPerUser: interactionsPerUser[u].sort()\n",
    "\n",
    "for u in interactionsPerUser:\n",
    "#   print(\"good\")\n",
    "  neg_item = random.choice(list(ITEMS - userItems[userIDs[u]]))\n",
    "  userInteractions = interactionsPerUser[u] #[t1,i1,r1][t2,i2,r2]\n",
    "  if(len(userInteractions) == 0 or len(userInteractions) == 1 or len(userInteractions) == len(itemIDs)):continue\n",
    "  for u_ind in range(1,len(userInteractions)):\n",
    "    user, item, last_item, time = userIDs[u], itemIDs[userInteractions[u_ind][1]], itemIDs[userInteractions[u_ind-1][1]], userInteractions[u_ind][0]\n",
    "    friendItems = defaultdict()\n",
    "    for f in friendsPerUser[u]:\n",
    "      if(f in interactionsPerUser.keys()):\n",
    "#         print(\"yayy\")\n",
    "        friendInteractions = interactionsPerUser[f]#[t1,i1,r1][t2,i2,r2]\n",
    "#         print(len(friendInteractions))\n",
    "        for f_ind in range(len(friendInteractions)-1, 0, -1):\n",
    "          if(friendInteractions[f_ind][0] < time):\n",
    "#             print(\"yoo\")\n",
    "            friendItems[userIDs[f]] = itemIDs[friendInteractions[f_ind][1]]\n",
    "            break\n",
    "    interactionsWithPrevious.append([user, item, last_item, neg_item, friendItems])\n",
    "\n",
    "#[u,i,l,n,[(f1,i1), f2:i2]]"
   ]
  },
  {
   "cell_type": "code",
   "execution_count": 27,
   "id": "5695068e",
   "metadata": {},
   "outputs": [],
   "source": [
    "K = 5\n",
    "gamma_u = np.random.normal(0, 0.001, size=(len(userIDs),K))\n",
    "gamma_i = np.random.normal(0, 0.001, size=(len(itemIDs),K))\n",
    "theta_i = np.random.normal(0, 0.001, size=(len(itemIDs),K))\n",
    "phi_i = np.random.normal(0, 0.001, size=(len(itemIDs),K))\n",
    "psi_u = np.random.normal(0, 0.001, size=(len(userIDs),K))\n",
    "b_i = np.random.normal(0, 0.001, size=(len(itemIDs)))\n",
    "#NW = 2 * nUsers * K + 3 * nItems * K + nItems;"
   ]
  },
  {
   "cell_type": "code",
   "execution_count": 28,
   "id": "a4da8f0c",
   "metadata": {},
   "outputs": [],
   "source": [
    "def sigmoid(x):\n",
    "  return 1/(1 + np.exp(-x))"
   ]
  },
  {
   "cell_type": "code",
   "execution_count": 29,
   "id": "f721529f",
   "metadata": {},
   "outputs": [],
   "source": [
    "ALPHA = 1\n",
    "biasReg = 0.00001\n",
    "lamb = 0.00001"
   ]
  },
  {
   "cell_type": "code",
   "execution_count": 30,
   "id": "cdd7679f",
   "metadata": {},
   "outputs": [],
   "source": [
    "def prediction(u, i, l, friend_items):\n",
    "  res = b_i[i] + np.dot(gamma_u[u],gamma_i[i]) + np.dot(theta_i[i],theta_i[l]);\n",
    "  F = len(friend_items)**ALPHA\n",
    "  for user_friend in friend_items:\n",
    "      friend_item = friend_items[user_friend];\n",
    "      res += (2/F) * sigmoid(np.dot(psi_u[u],psi_u[user_friend])) * np.dot(phi_i[i],phi_i[friend_item])\n",
    "  return res"
   ]
  },
  {
   "cell_type": "code",
   "execution_count": 31,
   "id": "179ed86f",
   "metadata": {},
   "outputs": [],
   "source": [
    "def updateFactors(user_id, pos_item_id, neg_item_id, last_item_id, friend_items, learn_rate):\n",
    "    x_uti = prediction(user_id, pos_item_id, last_item_id, friend_items);\n",
    "    x_utj = prediction(user_id, neg_item_id, last_item_id, friend_items);\n",
    "    delta = 1 - sigmoid(x_uti - x_utj);\n",
    "    b_i[pos_item_id] += learn_rate * (delta - biasReg * b_i[pos_item_id]);\n",
    "    b_i[neg_item_id] += learn_rate * (-delta - biasReg * b_i[neg_item_id]);\n",
    "\n",
    "    g_u_uk = gamma_u[user_id]\n",
    "    g_i_ik = gamma_i[pos_item_id]\n",
    "    g_i_jk = gamma_i[neg_item_id]\n",
    "    gamma_u[user_id] += learn_rate * (delta * (g_i_ik - g_i_jk) - lamb * g_u_uk);\n",
    "    gamma_i[pos_item_id] += learn_rate * (delta * g_u_uk - lamb * g_i_ik);\n",
    "    gamma_i[neg_item_id] += learn_rate * (-delta * g_u_uk - lamb * g_i_jk); \n",
    "\n",
    "    t_i_ik = theta_i[pos_item_id]\n",
    "    t_i_jk = theta_i[neg_item_id]\n",
    "    t_l_lk = theta_i[last_item_id]\n",
    "    theta_i[pos_item_id] += learn_rate * (delta * t_l_lk - lamb * t_i_ik);\n",
    "    theta_i[neg_item_id] += learn_rate * (-delta * t_l_lk - lamb * t_i_jk);\n",
    "    theta_i[last_item_id] += learn_rate * (delta * (t_i_ik - t_i_jk) - lamb * t_l_lk);\n",
    "\n",
    "    friends_size = len(friend_items)\n",
    "    F = friends_size\n",
    "    \n",
    "    psi_u_temp = psi_u[user_id]\n",
    "    for user_friend_id in friend_items:\n",
    "        friend_item_id = friend_items[user_friend_id]\n",
    "        phi_i_f = np.dot(phi_i[pos_item_id],phi_i[friend_item_id])\n",
    "        phi_j_f = np.dot(phi_i[neg_item_id],phi_i[friend_item_id])\n",
    "        psi_u_f = sigmoid(np.dot(psi_u_temp,psi_u[user_friend_id]))\n",
    "\n",
    "        phi_i_k = phi_i[pos_item_id]\n",
    "        phi_j_k = phi_i[neg_item_id]\n",
    "        phi_l_k = phi_i[friend_item_id]\n",
    "        psi_u_k = psi_u_temp;\n",
    "        psi_f_k = psi_u[user_friend_id]\n",
    "\n",
    "        psi_u[user_id] += learn_rate * (delta * 2 * (psi_f_k * psi_u_f * (1.0 - psi_u_f)) * (phi_i_f - phi_j_f) / F - lamb * psi_u_k / friends_size)\n",
    "        psi_u[user_friend_id] += learn_rate * (delta * 2 * psi_u_k * psi_u_f * (1.0 - psi_u_f) * (phi_i_f -phi_j_f) / F - lamb * psi_f_k)\n",
    "        phi_i[pos_item_id] += learn_rate * (delta * 2 * psi_u_f * phi_l_k / F - lamb * phi_i_k / friends_size)\n",
    "        phi_i[neg_item_id] += learn_rate * (-delta * 2 * psi_u_f * phi_l_k / F - lamb * phi_j_k / friends_size)\n",
    "        phi_i[friend_item_id] += learn_rate * (delta * 2 * psi_u_f * (phi_i_k - phi_j_k) / F - lamb * phi_l_k)"
   ]
  },
  {
   "cell_type": "code",
   "execution_count": 33,
   "id": "49e2e8f7",
   "metadata": {},
   "outputs": [],
   "source": [
    "def objective(interactionsWithPrevious):\n",
    "  obj = []\n",
    "  for user_id, pos_item_id, last_item_id, neg_item_id, friend_items in interactionsWithPrevious:\n",
    "      x = prediction(user_id, pos_item_id, last_item_id, friend_items)\n",
    "      x_ = prediction(user_id, neg_item_id,last_item_id, friend_items)\n",
    "      obj.append(np.log(sigmoid(x-x_)))\n",
    "  return -sum(obj)/len(obj)"
   ]
  },
  {
   "cell_type": "code",
   "execution_count": null,
   "id": "7fc84fce",
   "metadata": {
    "scrolled": true
   },
   "outputs": [],
   "source": [
    "iterations = 10\n",
    "learn_rate = 0.07\n",
    "for i in range(0,iterations):\n",
    "#   print(interactionsWithPrevious[:5])  \n",
    "  for user, pos_item, last_item, neg_item, friend_items in interactionsWithPrevious:\n",
    "    updateFactors(user, pos_item, neg_item, last_item, friend_items, learn_rate)\n",
    "  #if i%5 == 0:\n",
    "  obj = objective(interactionsWithPrevious)\n",
    "  print(obj)"
   ]
  },
  {
   "cell_type": "code",
   "execution_count": 46,
   "id": "a547c5b1",
   "metadata": {},
   "outputs": [],
   "source": [
    "userAUC = defaultdict(int)\n",
    "for u in interactionsPerUser:\n",
    "  userAUC[userIDs[u]] = 0"
   ]
  },
  {
   "cell_type": "code",
   "execution_count": 47,
   "id": "d9e3a055",
   "metadata": {},
   "outputs": [],
   "source": [
    "def AUCu(user, pos_item, last_item, neg_item, friend_items):\n",
    "  win = 0\n",
    "  sp = prediction(user, pos_item, last_item, friend_items)\n",
    "  #neg_item = random.choice(list(ITEMS - userItems[user]))\n",
    "  sn = prediction(user, neg_item, last_item, friend_items)\n",
    "  if sp >= sn:\n",
    "      win += 1\n",
    "  userAUC[user]+=win"
   ]
  },
  {
   "cell_type": "code",
   "execution_count": 48,
   "id": "be265edb",
   "metadata": {},
   "outputs": [],
   "source": [
    "def AUC():\n",
    "  av = []\n",
    "  for user, pos_item, last_item, neg_item, friend_items in interactionsWithPrevious:\n",
    "      AUCu(user, pos_item, last_item, neg_item, friend_items)\n",
    "  for u in interactionsPerUser.keys():\n",
    "      if len(interactionsPerUser[u]) == 0: continue\n",
    "      av.append(userAUC[userIDs[u]]/len(interactionsPerUser[u]))\n",
    "  return sum(av) / len(av)"
   ]
  },
  {
   "cell_type": "code",
   "execution_count": null,
   "id": "d09d7ae4",
   "metadata": {},
   "outputs": [],
   "source": [
    "print(AUC())"
   ]
  }
 ],
 "metadata": {
  "kernelspec": {
   "display_name": "Python 3",
   "language": "python",
   "name": "python3"
  },
  "language_info": {
   "codemirror_mode": {
    "name": "ipython",
    "version": 3
   },
   "file_extension": ".py",
   "mimetype": "text/x-python",
   "name": "python",
   "nbconvert_exporter": "python",
   "pygments_lexer": "ipython3",
   "version": "3.6.9"
  }
 },
 "nbformat": 4,
 "nbformat_minor": 5
}
